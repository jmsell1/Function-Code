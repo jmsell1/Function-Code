{
 "cells": [
  {
   "cell_type": "code",
   "execution_count": 2,
   "source": [
    "#Import libraries and necesary metrics\n",
    "import sklearn\n",
    "from sklearn import metrics\n",
    "from sklearn.metrics import roc_auc_score\n",
    "from sklearn.metrics import accuracy_score\n",
    "import pandas as pd\n",
    "import numpy\n",
    "import numpy as np"
   ],
   "outputs": [],
   "metadata": {}
  },
  {
   "cell_type": "code",
   "execution_count": 52,
   "source": [
    "#FPR and TPR\n",
    "cols_list = [\"lightleak\", \"pen\", \"ruler\", \"border\", \"corner\", \"blur\", \"hair_some\", \"hair_obscure\"]\n",
    "#NOTE: DO NOT FORGET TO MANUALLY ADD THE FIRST COLUMN (IMAGEIDS) AND FIRST ROW (LABELS) TO THE FINAL CSV FILE BEFORE RUNNING THIS\n",
    "dfpred = pd.read_csv(\"/Volumes/J_Bac/2021/Results/oofv2_2021_08-15(2)_Final.csv\", usecols=cols_list)\n",
    "dftrue = pd.read_csv(\"./QA_Multi_Temp_Final.csv\", usecols=cols_list)\n",
    "for feature in cols_list:\n",
    "    y_pred = list(dfpred[feature])\n",
    "    y_true = list(dftrue[feature])\n",
    "    #auc = metrics.roc_auc_score(y_true, y_pred)\n",
    "    rocauc = roc_auc_score(y_true, y_pred)\n",
    "    print('ROC for %s = %f'%(feature,rocauc))"
   ],
   "outputs": [
    {
     "output_type": "stream",
     "name": "stdout",
     "text": [
      "ROC for lightleak = 0.971448\n",
      "ROC for pen = 0.994216\n",
      "ROC for ruler = 0.993112\n",
      "ROC for border = 0.994204\n",
      "ROC for corner = 0.993128\n",
      "ROC for blur = 0.817548\n",
      "ROC for hair_some = 0.984872\n",
      "ROC for hair_obscure = 0.995914\n"
     ]
    }
   ],
   "metadata": {
    "scrolled": true
   }
  },
  {
   "cell_type": "markdown",
   "source": [
    "# 15Aug-Run2\n",
    "ROC for lightleak = 0.971448\n",
    "ROC for pen = 0.994216\n",
    "ROC for ruler = 0.993112\n",
    "ROC for border = 0.994204\n",
    "ROC for corner = 0.993128\n",
    "ROC for blur = 0.817548\n",
    "ROC for hair_some = 0.984872\n",
    "ROC for hair_obscure = 0.995914\n",
    "\n",
    "# 15Aug-Run1  -> Increased persistance, corrected cropping and set the minimum blur to 3 ([3,30] range)\n",
    "ROC for lightleak = 0.977422\n",
    "ROC for pen = 0.992386\n",
    "ROC for ruler = 0.993281\n",
    "ROC for border = 0.994392\n",
    "ROC for corner = 0.992394\n",
    "ROC for blur = 0.819753\n",
    "ROC for hair_some = 0.985599\n",
    "ROC for hair_obscure = 0.996411\n",
    "\n",
    "# 14Aug-Run2\n",
    "ROC for lightleak = 0.979799\n",
    "ROC for pen = 0.994471\n",
    "ROC for ruler = 0.992574\n",
    "ROC for border = 0.995200\n",
    "ROC for corner = 0.992420\n",
    "ROC for blur = 0.804636\n",
    "ROC for hair_some = 0.984839\n",
    "ROC for hair_obscure = 0.995204\n",
    "\n",
    "# 14Aug-Run1 \n",
    "ROC for lightleak = 0.918490\n",
    "ROC for pen = 0.982030\n",
    "ROC for ruler = 0.939359\n",
    "ROC for border = 0.991419\n",
    "ROC for corner = 0.891795\n",
    "ROC for blur = 0.797552\n",
    "ROC for hair_some = 0.980713\n",
    "ROC for hair_obscure = 0.994218"
   ],
   "metadata": {}
  },
  {
   "cell_type": "code",
   "execution_count": 4,
   "source": [
    "#FPR and TPR (per feature)\n",
    "cols_list = [\"lightleak\", \"pen\", \"ruler\", \"border\", \"corner\", \"blur\", \"hair_some\", \"hair_obscure\"]\n",
    "dfpred = pd.read_csv(\"/Volumes/J_Bac/2021/Results/oofv2_2021_08-14(2)_Final.csv\", usecols=cols_list)\n",
    "dftrue = pd.read_csv(\"/Volumes/J_Bac/2021/QA_Multi_Temp_Final.csv\", usecols=cols_list)\n",
    "df3 = pd.DataFrame(columns=cols_list, index = range(100))\n",
    "x = 'blur'\n",
    "y_pred = list(dfpred[x])\n",
    "y_true = list(dftrue[x])\n",
    "fpr, tpr, thresholds = sklearn.metrics.roc_curve(y_true, y_pred)\n",
    "for feature in cols_list:\n",
    "    for i in range(1641): #Change for each feature\n",
    "        df3.loc[i, x]=tpr[i]\n",
    "print(df3)\n",
    "#df3.to_csv('/Volumes/J_Bac/2021/Results/tpr_8-14(2).csv')"
   ],
   "outputs": [
    {
     "output_type": "stream",
     "name": "stdout",
     "text": [
      "     lightleak  pen ruler border corner         blur hair_some hair_obscure\n",
      "0          NaN  NaN   NaN    NaN    NaN            0       NaN          NaN\n",
      "1          NaN  NaN   NaN    NaN    NaN  0.000469925       NaN          NaN\n",
      "2          NaN  NaN   NaN    NaN    NaN  0.000469925       NaN          NaN\n",
      "3          NaN  NaN   NaN    NaN    NaN   0.00234962       NaN          NaN\n",
      "4          NaN  NaN   NaN    NaN    NaN   0.00234962       NaN          NaN\n",
      "...        ...  ...   ...    ...    ...          ...       ...          ...\n",
      "1636       NaN  NaN   NaN    NaN    NaN      0.99953       NaN          NaN\n",
      "1637       NaN  NaN   NaN    NaN    NaN      0.99953       NaN          NaN\n",
      "1638       NaN  NaN   NaN    NaN    NaN      0.99953       NaN          NaN\n",
      "1639       NaN  NaN   NaN    NaN    NaN            1       NaN          NaN\n",
      "1640       NaN  NaN   NaN    NaN    NaN            1       NaN          NaN\n",
      "\n",
      "[1641 rows x 8 columns]\n"
     ]
    }
   ],
   "metadata": {}
  },
  {
   "cell_type": "code",
   "execution_count": 4,
   "source": [
    "#Roc-Auc New\n",
    "cols_list = [\"lightleak\", \"pen\", \"ruler\", \"border\", \"corner\", \"blur\", \"hair_some\", \"hair_obscure\"]\n",
    "for feature in cols_list:\n",
    "    y_pred = pd.read_csv(\"/Volumes/J_Bac/Falses/output.csv\", usecols=[feature])\n",
    "    y_true = pd.read_csv(\"/Volumes/J_Bac/Falses/QA_Multi_Temp_Final.csv\", usecols = [feature])\n",
    "    rocauc = roc_auc_score(y_true, y_pred)\n",
    "    print(feature, rocauc)"
   ],
   "outputs": [
    {
     "output_type": "stream",
     "name": "stdout",
     "text": [
      "lightleak 0.9569533972125436\n",
      "pen 0.9799412689965676\n",
      "ruler 0.9785060345404499\n",
      "border 0.9961713827519578\n",
      "corner 0.985083836630493\n",
      "blur 0.8221944758216879\n",
      "hair_some 0.9676680351751759\n",
      "hair_obscure 0.9632538473647172\n"
     ]
    }
   ],
   "metadata": {
    "scrolled": false
   }
  },
  {
   "cell_type": "code",
   "execution_count": 7,
   "source": [
    "#Roc-Auc Original\n",
    "cols_list = [\"lightleak\", \"pen\", \"ruler\", \"border\", \"corner\", \"blur\", \"hair_some\", \"hair_obscure\"]\n",
    "for feature in cols_list:\n",
    "    y_pred = pd.read_csv(\"/Volumes/J_Bac/Falses/output.csv\", usecols=[feature])\n",
    "    y_true = pd.read_csv(\"/Volumes/J_Bac/Falses/QA_Multi_Temp.csv\", usecols = [feature])\n",
    "    rocauc = roc_auc_score(y_true, y_pred)\n",
    "    print(feature, rocauc)"
   ],
   "outputs": [
    {
     "output_type": "stream",
     "name": "stdout",
     "text": [
      "lightleak 0.9564135115624923\n",
      "pen 0.9597155593772628\n",
      "ruler 0.9526238327745653\n",
      "border 0.9774620962803814\n",
      "corner 0.9697537940935193\n",
      "blur 0.7866478543673554\n",
      "hair_some 0.9439447209213527\n",
      "hair_obscure 0.9420357693132837\n"
     ]
    }
   ],
   "metadata": {}
  },
  {
   "cell_type": "code",
   "execution_count": 6,
   "source": [
    "#Accuracy (Currently not working)\n",
    "cols_list = [\"lightleak\", \"pen\", \"ruler\", \"border\", \"corner\", \"blur\", \"hair_some\", \"hair_obscure\"]\n",
    "for feature in cols_list:\n",
    "    y_pred = pd.read_csv(\"/Volumes/J_Bac/Falses/output.csv\", usecols=[feature])\n",
    "    y_true = pd.read_csv(\"/Volumes/J_Bac/Falses/QA_Multi_Temp_Final.csv\", usecols=[feature])\n",
    "    #accuracy = accuracy_score(y_true, y_pred)\n",
    "    #print(feature, accuracy)"
   ],
   "outputs": [],
   "metadata": {}
  },
  {
   "cell_type": "code",
   "execution_count": null,
   "source": [],
   "outputs": [],
   "metadata": {}
  }
 ],
 "metadata": {
  "kernelspec": {
   "name": "python3",
   "display_name": "Python 3.7.6 64-bit ('base': conda)"
  },
  "language_info": {
   "codemirror_mode": {
    "name": "ipython",
    "version": 3
   },
   "file_extension": ".py",
   "mimetype": "text/x-python",
   "name": "python",
   "nbconvert_exporter": "python",
   "pygments_lexer": "ipython3",
   "version": "3.7.6"
  },
  "interpreter": {
   "hash": "0d11e71b6bbeab7208bba2cc2bfd4363796e5b42e333fc021982e951faa1db13"
  }
 },
 "nbformat": 4,
 "nbformat_minor": 4
}